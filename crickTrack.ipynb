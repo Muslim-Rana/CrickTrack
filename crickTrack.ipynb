{
 "cells": [
  {
   "cell_type": "markdown",
   "metadata": {},
   "source": [
    "## CrickTrack Application"
   ]
  },
  {
   "cell_type": "code",
   "execution_count": null,
   "metadata": {},
   "outputs": [],
   "source": [
    "pip install Pillow"
   ]
  },
  {
   "cell_type": "code",
   "execution_count": null,
   "metadata": {},
   "outputs": [],
   "source": [
    "pip install bs4"
   ]
  },
  {
   "cell_type": "code",
   "execution_count": null,
   "metadata": {},
   "outputs": [],
   "source": [
    "pip install requests"
   ]
  },
  {
   "cell_type": "code",
   "execution_count": null,
   "metadata": {},
   "outputs": [],
   "source": [
    "from tkinter import *\n",
    "from tkinter.ttk import Combobox\n",
    "from PIL import ImageTk\n",
    "from bs4 import BeautifulSoup\n",
    "import requests\n",
    "import re"
   ]
  },
  {
   "cell_type": "code",
   "execution_count": null,
   "metadata": {},
   "outputs": [],
   "source": [
    "class CricketScore:\n",
    "    \n",
    "    #Constructor\n",
    "    def __init__(self, rootWindow):\n",
    "        self.rootWindow = rootWindow\n",
    "        self.rootWindow.title('Live Cricket Score')\n",
    "        self.rootWindow.geometry('800x500')\n",
    "        self.bg = ImageTk.PhotoImage(file = 'trophy.png')\n",
    "        bg = Label(self.rootWindow, image = self.bg).place(x = 0, y = 0)\n",
    "\n",
    "        #Live Matches Label\n",
    "        self.label = Label(self.rootWindow, text = \"Live Matches\", font = (\"times new roman\", 65), compound = \"center\").pack(padx = 100, pady = 50)\n",
    "\n",
    "        #Fetch live match details and update GUI\n",
    "        self.var = StringVar()\n",
    "        self.matches = self.match_details()\n",
    "        self.data = [i for i in self.matches.keys()]\n",
    "        self.cb = Combobox(self.rootWindow, values = self.data, width = 50)\n",
    "        self.cb.place(x = 250, y = 250)\n",
    "\n",
    "        #Check score button\n",
    "        self.b1 = Button(self.rootWindow, text = \"Check Score\", font = (\"times new roman\", 15), command = self.show_match_details).place(x = 50, y = 380)\n",
    "\n",
    "\n",
    "    def select(self):\n",
    "        return self.cb.get()\n",
    "\n",
    "\n",
    "    def show_match_details(self):\n",
    "        #Building the match detail frame\n",
    "        self.frame1 = Frame(self.rootWindow, bg = \"#ADD8E6\")\n",
    "        self.frame1.place(x = 180, y = 280, width = 600, height = 200)\n",
    "\n",
    "        #Fetching details of the match\n",
    "        x = self.matches[self.select()]\n",
    "\n",
    "        #Displaying team names\n",
    "        Label(self.frame1, text = \"Score Details: \", font = (\"times new roman\", 10), bg = \"#ADD8E6\", fg = \"black\", bd = 0).place(x = 10, y = 40)\n",
    "        Label(self.frame1, text = x[\"score_card\"], font = (\"times new roman\", 10), bg = \"#ADD8E6\", fg = \"black\", bd = 0).place(x = 20, y = 60)\n",
    "        Label(self.frame1, text = \"Summary: \", font = (\"times new roman\", 10), bg = \"#ADD8E6\", fg = \"black\", bd = 0).place(x = 10, y = 100)\n",
    "        Label(self.frame1, text = x[\"summary\"], font = (\"times new roman\", 10), bg = \"#ADD8E6\", fg = \"black\", bd = 0).place(x = 20, y = 120)\n",
    "\n",
    "    def match_details(self):\n",
    "        details = self.scrap()\n",
    "\n",
    "        #parse and read match data\n",
    "        live_match = {}\n",
    "        for detail in details:\n",
    "            live_team_details = {}\n",
    "            summary = self.match_summary(detail)\n",
    "            if summary is not None:\n",
    "                teams = self.teams_name(detail)\n",
    "                score_card = self.team_score(detail)\n",
    "                live_team_details[\"summary\"] = summary.text\n",
    "                live_team_details[\"score_card\"] = score_card[0] + \" :: \" + score_card[1]\n",
    "                live_match[teams[0] + \" vs \" + teams[1]] = live_team_details\n",
    "        \n",
    "        print(live_match)\n",
    "        return live_match\n",
    "\n",
    "    def team_score(self, detail):\n",
    "        t = []\n",
    "        team1_details = detail.find(\"div\", class_=\"cb-hmscg-bat-txt\").text\n",
    "        team2_details = detail.find(\"div\", class_=\"cb-hmscg-bwl-txt\").text\n",
    "        t.append(team1_details)\n",
    "        t.append(team2_details)\n",
    "        return t\n",
    "\n",
    "    def teams_name(self, detail):\n",
    "        t = []\n",
    "        team1_details = detail.find(\"div\", class_=\"cb-hmscg-bat-txt\").text\n",
    "        team1_index = re.search(r\"\\d\", team1_details).start() if re.search(r\"\\d\", team1_details) else len(team1_details)\n",
    "        team2_details = detail.find(\"div\", class_=\"cb-hmscg-bwl-txt\").text\n",
    "        team2_index = re.search(r\"\\d\", team2_details).start() if re.search(r\"\\d\", team2_details) else len(team2_details)\n",
    "        t.append(team1_details[:team1_index])\n",
    "        t.append(team2_details[:team2_index])\n",
    "        return t\n",
    "\n",
    "    def match_summary(self, detail):\n",
    "        return detail.find(\"div\", class_=\"cb-mtch-crd-state\")\n",
    "\n",
    "    #Helper function for web scrapping\n",
    "    def scrap(self):\n",
    "        URL = \"https://www.cricbuzz.com/\"\n",
    "        page = requests.get(URL)\n",
    "        \n",
    "\n",
    "        #parse the HTML and get the scorecard data from CricBuzz\n",
    "        soup = BeautifulSoup(page.content, \"html.parser\")\n",
    "        results = soup.find(id = \"match_menu_container\")\n",
    "        scrap_results = results.find_all(\"li\", class_ = \"cb-view-all-ga cb-live-stream-match-card cb-bg-white cb-pos-rel\")\n",
    "        return scrap_results\n",
    "\n",
    "\n",
    "\n",
    "\n",
    "\n",
    "# main function for running the CrickTrack Application\n",
    "\n",
    "def main():\n",
    "    rootWindow = Tk()\n",
    "    appObj = CricketScore(rootWindow)\n",
    "    rootWindow.mainloop()\n",
    "\n",
    "\n",
    "#Execute this file\n",
    "if __name__ == '__main__':\n",
    "    main()"
   ]
  }
 ],
 "metadata": {
  "kernelspec": {
   "display_name": "base",
   "language": "python",
   "name": "python3"
  },
  "language_info": {
   "codemirror_mode": {
    "name": "ipython",
    "version": 3
   },
   "file_extension": ".py",
   "mimetype": "text/x-python",
   "name": "python",
   "nbconvert_exporter": "python",
   "pygments_lexer": "ipython3",
   "version": "3.11.5"
  }
 },
 "nbformat": 4,
 "nbformat_minor": 2
}
