{
 "cells": [
  {
   "cell_type": "markdown",
   "metadata": {},
   "source": [
    "## CrickTrack Application"
   ]
  },
  {
   "cell_type": "code",
   "execution_count": 1,
   "metadata": {},
   "outputs": [
    {
     "name": "stdout",
     "output_type": "stream",
     "text": [
      "Requirement already satisfied: Pillow in c:\\users\\musli\\miniconda3\\lib\\site-packages (10.2.0)\n",
      "Note: you may need to restart the kernel to use updated packages.\n"
     ]
    }
   ],
   "source": [
    "pip install Pillow"
   ]
  },
  {
   "cell_type": "code",
   "execution_count": 2,
   "metadata": {},
   "outputs": [
    {
     "name": "stdout",
     "output_type": "stream",
     "text": [
      "Requirement already satisfied: bs4 in c:\\users\\musli\\miniconda3\\lib\\site-packages (0.0.2)\n",
      "Requirement already satisfied: beautifulsoup4 in c:\\users\\musli\\miniconda3\\lib\\site-packages (from bs4) (4.12.2)\n",
      "Requirement already satisfied: soupsieve>1.2 in c:\\users\\musli\\miniconda3\\lib\\site-packages (from beautifulsoup4->bs4) (2.5)\n",
      "Note: you may need to restart the kernel to use updated packages.\n"
     ]
    }
   ],
   "source": [
    "pip install bs4"
   ]
  },
  {
   "cell_type": "code",
   "execution_count": 3,
   "metadata": {},
   "outputs": [
    {
     "name": "stdout",
     "output_type": "stream",
     "text": [
      "Requirement already satisfied: requests in c:\\users\\musli\\miniconda3\\lib\\site-packages (2.31.0)Note: you may need to restart the kernel to use updated packages.\n",
      "\n",
      "Requirement already satisfied: charset-normalizer<4,>=2 in c:\\users\\musli\\miniconda3\\lib\\site-packages (from requests) (2.0.4)\n",
      "Requirement already satisfied: idna<4,>=2.5 in c:\\users\\musli\\miniconda3\\lib\\site-packages (from requests) (3.4)\n",
      "Requirement already satisfied: urllib3<3,>=1.21.1 in c:\\users\\musli\\miniconda3\\lib\\site-packages (from requests) (1.26.18)\n",
      "Requirement already satisfied: certifi>=2017.4.17 in c:\\users\\musli\\miniconda3\\lib\\site-packages (from requests) (2024.2.2)\n"
     ]
    }
   ],
   "source": [
    "pip install requests"
   ]
  },
  {
   "cell_type": "code",
   "execution_count": 4,
   "metadata": {},
   "outputs": [],
   "source": [
    "from tkinter import *\n",
    "from tkinter.ttk import Combobox\n",
    "from PIL import ImageTk\n",
    "from bs4 import BeautifulSoup\n",
    "import requests"
   ]
  },
  {
   "cell_type": "code",
   "execution_count": 7,
   "metadata": {},
   "outputs": [
    {
     "name": "stdout",
     "output_type": "stream",
     "text": [
      "<div class=\"cb-mtch-crd-state cb-ovr-flo cb-font-12 cb-text-complete\" title=\"South Africa won by 6 wkts\">South Africa won by 6 wkts</div>\n",
      "None hi\n",
      "None\n",
      "<div class=\"cb-mtch-crd-state cb-ovr-flo cb-font-12 cb-text-complete\" title=\"Match tied (Namibia won the super over)\">Match tied (Namibia won the super over)</div>\n"
     ]
    },
    {
     "ename": "AttributeError",
     "evalue": "'NoneType' object has no attribute 'txt'",
     "output_type": "error",
     "traceback": [
      "\u001b[1;31m---------------------------------------------------------------------------\u001b[0m",
      "\u001b[1;31mAttributeError\u001b[0m                            Traceback (most recent call last)",
      "Cell \u001b[1;32mIn[7], line 67\u001b[0m\n\u001b[0;32m     65\u001b[0m \u001b[38;5;66;03m#Execute this file\u001b[39;00m\n\u001b[0;32m     66\u001b[0m \u001b[38;5;28;01mif\u001b[39;00m \u001b[38;5;18m__name__\u001b[39m \u001b[38;5;241m==\u001b[39m \u001b[38;5;124m'\u001b[39m\u001b[38;5;124m__main__\u001b[39m\u001b[38;5;124m'\u001b[39m:\n\u001b[1;32m---> 67\u001b[0m     \u001b[43mmain\u001b[49m\u001b[43m(\u001b[49m\u001b[43m)\u001b[49m\n",
      "Cell \u001b[1;32mIn[7], line 61\u001b[0m, in \u001b[0;36mmain\u001b[1;34m()\u001b[0m\n\u001b[0;32m     59\u001b[0m \u001b[38;5;28;01mdef\u001b[39;00m \u001b[38;5;21mmain\u001b[39m():\n\u001b[0;32m     60\u001b[0m     rootWindow \u001b[38;5;241m=\u001b[39m Tk()\n\u001b[1;32m---> 61\u001b[0m     appObj \u001b[38;5;241m=\u001b[39m \u001b[43mCricketScore\u001b[49m\u001b[43m(\u001b[49m\u001b[43mrootWindow\u001b[49m\u001b[43m)\u001b[49m\n\u001b[0;32m     62\u001b[0m     rootWindow\u001b[38;5;241m.\u001b[39mmainloop()\n",
      "Cell \u001b[1;32mIn[7], line 16\u001b[0m, in \u001b[0;36mCricketScore.__init__\u001b[1;34m(self, rootWindow)\u001b[0m\n\u001b[0;32m     14\u001b[0m \u001b[38;5;66;03m#Fetch live match details and update GUI\u001b[39;00m\n\u001b[0;32m     15\u001b[0m \u001b[38;5;28mself\u001b[39m\u001b[38;5;241m.\u001b[39mvar \u001b[38;5;241m=\u001b[39m StringVar()\n\u001b[1;32m---> 16\u001b[0m \u001b[38;5;28mself\u001b[39m\u001b[38;5;241m.\u001b[39mmatches \u001b[38;5;241m=\u001b[39m \u001b[38;5;28;43mself\u001b[39;49m\u001b[38;5;241;43m.\u001b[39;49m\u001b[43mmatch_details\u001b[49m\u001b[43m(\u001b[49m\u001b[43m)\u001b[49m\n",
      "Cell \u001b[1;32mIn[7], line 29\u001b[0m, in \u001b[0;36mCricketScore.match_details\u001b[1;34m(self)\u001b[0m\n\u001b[0;32m     27\u001b[0m \u001b[38;5;28mprint\u001b[39m(summary)\n\u001b[0;32m     28\u001b[0m \u001b[38;5;28;01mif\u001b[39;00m summary \u001b[38;5;129;01mis\u001b[39;00m \u001b[38;5;129;01mnot\u001b[39;00m \u001b[38;5;28;01mNone\u001b[39;00m:\n\u001b[1;32m---> 29\u001b[0m     teams \u001b[38;5;241m=\u001b[39m \u001b[38;5;28;43mself\u001b[39;49m\u001b[38;5;241;43m.\u001b[39;49m\u001b[43mteams_name\u001b[49m\u001b[43m(\u001b[49m\u001b[43mdetail\u001b[49m\u001b[43m)\u001b[49m\n",
      "Cell \u001b[1;32mIn[7], line 34\u001b[0m, in \u001b[0;36mCricketScore.teams_name\u001b[1;34m(self, detail)\u001b[0m\n\u001b[0;32m     32\u001b[0m \u001b[38;5;28;01mdef\u001b[39;00m \u001b[38;5;21mteams_name\u001b[39m(\u001b[38;5;28mself\u001b[39m, detail):\n\u001b[0;32m     33\u001b[0m     t \u001b[38;5;241m=\u001b[39m []\n\u001b[1;32m---> 34\u001b[0m     team1_details \u001b[38;5;241m=\u001b[39m \u001b[43mdetail\u001b[49m\u001b[38;5;241;43m.\u001b[39;49m\u001b[43mfind\u001b[49m\u001b[43m(\u001b[49m\u001b[38;5;124;43m\"\u001b[39;49m\u001b[38;5;124;43mdiv\u001b[39;49m\u001b[38;5;124;43m\"\u001b[39;49m\u001b[43m,\u001b[49m\u001b[43m \u001b[49m\u001b[43mclass_\u001b[49m\u001b[38;5;241;43m=\u001b[39;49m\u001b[38;5;124;43m\"\u001b[39;49m\u001b[38;5;124;43mcb-hmscg-bwl-txt\u001b[39;49m\u001b[38;5;124;43m\"\u001b[39;49m\u001b[43m)\u001b[49m\u001b[38;5;241;43m.\u001b[39;49m\u001b[43mtxt\u001b[49m\n\u001b[0;32m     35\u001b[0m     \u001b[38;5;28mprint\u001b[39m(team1_details, \u001b[38;5;124m\"\u001b[39m\u001b[38;5;124mhi\u001b[39m\u001b[38;5;124m\"\u001b[39m)\n",
      "\u001b[1;31mAttributeError\u001b[0m: 'NoneType' object has no attribute 'txt'"
     ]
    }
   ],
   "source": [
    "class CricketScore:\n",
    "    \n",
    "    #Constructor\n",
    "    def __init__(self, rootWindow):\n",
    "        self.rootWindow = rootWindow\n",
    "        self.rootWindow.title('Live Cricket Score')\n",
    "        self.rootWindow.geometry('800x500')\n",
    "        self.bg = ImageTk.PhotoImage(file = 'cric.png')\n",
    "        bg = Label(self.rootWindow, image = self.bg).place(x = 0, y = 0)\n",
    "\n",
    "        #Live Matches Label\n",
    "        self.label = Label(self.rootWindow, text = \"Live Matches\", font = (\"times new roman\", 65), compound = \"center\").pack(padx = 100, pady = 50)\n",
    "\n",
    "        #Fetch live match details and update GUI\n",
    "        self.var = StringVar()\n",
    "        self.matches = self.match_details()\n",
    "\n",
    "\n",
    "    def match_details(self):\n",
    "        details = self.scrap()\n",
    "\n",
    "        #parse and read match data\n",
    "        live_match = {}\n",
    "        for detail in details:\n",
    "            live_team_details = {}\n",
    "            summary = self.match_summary(detail)\n",
    "            print(summary)\n",
    "            if summary is not None:\n",
    "                teams = self.teams_name(detail)\n",
    "\n",
    "\n",
    "    def teams_name(self, detail):\n",
    "        t = []\n",
    "        team1_details = detail.find(\"div\", class_=\"cb-hmscg-bat-txt\").txt\n",
    "        print(team1_details, \"hi\")\n",
    "\n",
    "\n",
    "    def match_summary(self, detail):\n",
    "        return detail.find(\"div\", class_=\"cb-mtch-crd-state\")\n",
    "\n",
    "    #Helper function for web scrapping\n",
    "    def scrap(self):\n",
    "        URL = \"https://www.cricbuzz.com/\"\n",
    "        page = requests.get(URL)\n",
    "        \n",
    "\n",
    "        #parse the HTML and get the scorecard data from CricBuzz\n",
    "        soup = BeautifulSoup(page.content, \"html.parser\")\n",
    "        results = soup.find(id = \"match_menu_container\")\n",
    "        scrap_results = results.find_all(\"li\", class_ = \"cb-view-all-ga cb-live-stream-match-card cb-bg-white cb-pos-rel\")\n",
    "        return scrap_results\n",
    "\n",
    "\n",
    "\n",
    "\n",
    "\n",
    "# main function for running the CrickTrack Application\n",
    "\n",
    "def main():\n",
    "    rootWindow = Tk()\n",
    "    appObj = CricketScore(rootWindow)\n",
    "    rootWindow.mainloop()\n",
    "\n",
    "\n",
    "#Execute this file\n",
    "if __name__ == '__main__':\n",
    "    main()"
   ]
  }
 ],
 "metadata": {
  "kernelspec": {
   "display_name": "base",
   "language": "python",
   "name": "python3"
  },
  "language_info": {
   "codemirror_mode": {
    "name": "ipython",
    "version": 3
   },
   "file_extension": ".py",
   "mimetype": "text/x-python",
   "name": "python",
   "nbconvert_exporter": "python",
   "pygments_lexer": "ipython3",
   "version": "3.11.5"
  }
 },
 "nbformat": 4,
 "nbformat_minor": 2
}
