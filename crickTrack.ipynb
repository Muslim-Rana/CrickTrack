{
 "cells": [
  {
   "cell_type": "markdown",
   "metadata": {},
   "source": [
    "## CrickTrack Application"
   ]
  },
  {
   "cell_type": "code",
   "execution_count": 1,
   "metadata": {},
   "outputs": [
    {
     "name": "stdout",
     "output_type": "stream",
     "text": [
      "Requirement already satisfied: Pillow in c:\\users\\musli\\miniconda3\\lib\\site-packages (10.2.0)\n",
      "Note: you may need to restart the kernel to use updated packages.\n"
     ]
    }
   ],
   "source": [
    "pip install Pillow"
   ]
  },
  {
   "cell_type": "code",
   "execution_count": 2,
   "metadata": {},
   "outputs": [
    {
     "name": "stdout",
     "output_type": "stream",
     "text": [
      "Requirement already satisfied: bs4 in c:\\users\\musli\\miniconda3\\lib\\site-packages (0.0.2)\n",
      "Requirement already satisfied: beautifulsoup4 in c:\\users\\musli\\miniconda3\\lib\\site-packages (from bs4) (4.12.2)\n",
      "Requirement already satisfied: soupsieve>1.2 in c:\\users\\musli\\miniconda3\\lib\\site-packages (from beautifulsoup4->bs4) (2.5)\n",
      "Note: you may need to restart the kernel to use updated packages.\n"
     ]
    }
   ],
   "source": [
    "pip install bs4"
   ]
  },
  {
   "cell_type": "code",
   "execution_count": 3,
   "metadata": {},
   "outputs": [
    {
     "name": "stdout",
     "output_type": "stream",
     "text": [
      "Requirement already satisfied: requests in c:\\users\\musli\\miniconda3\\lib\\site-packages (2.31.0)\n",
      "Requirement already satisfied: charset-normalizer<4,>=2 in c:\\users\\musli\\miniconda3\\lib\\site-packages (from requests) (2.0.4)\n",
      "Requirement already satisfied: idna<4,>=2.5 in c:\\users\\musli\\miniconda3\\lib\\site-packages (from requests) (3.4)\n",
      "Requirement already satisfied: urllib3<3,>=1.21.1 in c:\\users\\musli\\miniconda3\\lib\\site-packages (from requests) (1.26.18)\n",
      "Requirement already satisfied: certifi>=2017.4.17 in c:\\users\\musli\\miniconda3\\lib\\site-packages (from requests) (2024.2.2)\n",
      "Note: you may need to restart the kernel to use updated packages.\n"
     ]
    }
   ],
   "source": [
    "pip install requests"
   ]
  },
  {
   "cell_type": "code",
   "execution_count": 4,
   "metadata": {},
   "outputs": [],
   "source": [
    "from tkinter import *\n",
    "from tkinter.ttk import Combobox\n",
    "from PIL import ImageTk\n",
    "from bs4 import BeautifulSoup\n",
    "import requests"
   ]
  },
  {
   "cell_type": "code",
   "execution_count": 8,
   "metadata": {},
   "outputs": [
    {
     "name": "stdout",
     "output_type": "stream",
     "text": [
      "[]\n"
     ]
    }
   ],
   "source": [
    "class CricketScore:\n",
    "    \n",
    "    #Constructor\n",
    "    def __init__(self, rootWindow):\n",
    "        self.rootWindow = rootWindow\n",
    "        self.rootWindow.title('Live Cricket Score')\n",
    "        self.rootWindow.geometry('800x500')\n",
    "        self.bg = ImageTk.PhotoImage(file = 'cric.png')\n",
    "        bg = Label(self.rootWindow, image = self.bg).place(x = 0, y = 0)\n",
    "\n",
    "        #Live Matches Label\n",
    "        self.label = Label(self.rootWindow, text = \"Live Matches\", font = (\"times new roman\", 65), compound = \"center\").pack(padx = 100, pady = 50)\n",
    "\n",
    "        #Fetch live match details and update GUI\n",
    "        self.var = StringVar()\n",
    "        self.matches = self.match_details()\n",
    "\n",
    "\n",
    "    def match_details(self):\n",
    "        details = self.scrap()\n",
    "\n",
    "\n",
    "\n",
    "    #Helper function for web scrapping\n",
    "    def scrap(self):\n",
    "        URL = \"https://www.cricbuzz.com/\"\n",
    "        page = requests.get(URL)\n",
    "        \n",
    "\n",
    "        #parse the HTML and get the scorecard data from CricBuzz\n",
    "        soup = BeautifulSoup(page.content, \"html.parser\")\n",
    "        results = soup.find(id = \"match_menu_container\")\n",
    "        scrap_results = results.find_all(\"li\", class_ = \"cb-match-card\")\n",
    "        return scrap_results\n",
    "\n",
    "\n",
    "\n",
    "\n",
    "\n",
    "# main function for running the CrickTrack Application\n",
    "\n",
    "def main():\n",
    "    rootWindow = Tk()\n",
    "    appObj = CricketScore(rootWindow)\n",
    "    rootWindow.mainloop()\n",
    "\n",
    "\n",
    "#Execute this file\n",
    "if __name__ == '__main__':\n",
    "    main()"
   ]
  }
 ],
 "metadata": {
  "kernelspec": {
   "display_name": "base",
   "language": "python",
   "name": "python3"
  },
  "language_info": {
   "codemirror_mode": {
    "name": "ipython",
    "version": 3
   },
   "file_extension": ".py",
   "mimetype": "text/x-python",
   "name": "python",
   "nbconvert_exporter": "python",
   "pygments_lexer": "ipython3",
   "version": "3.11.5"
  }
 },
 "nbformat": 4,
 "nbformat_minor": 2
}
