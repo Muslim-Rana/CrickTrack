{
 "cells": [
  {
   "cell_type": "markdown",
   "metadata": {},
   "source": [
    "## CrickTrack Application"
   ]
  },
  {
   "cell_type": "code",
   "execution_count": 1,
   "metadata": {},
   "outputs": [
    {
     "name": "stdout",
     "output_type": "stream",
     "text": [
      "Requirement already satisfied: Pillow in c:\\users\\musli\\miniconda3\\lib\\site-packages (10.2.0)\n",
      "Note: you may need to restart the kernel to use updated packages.\n"
     ]
    }
   ],
   "source": [
    "pip install Pillow"
   ]
  },
  {
   "cell_type": "code",
   "execution_count": 2,
   "metadata": {},
   "outputs": [],
   "source": [
    "from tkinter import *\n",
    "from tkinter.ttk import Combobox\n",
    "from PIL import ImageTk"
   ]
  },
  {
   "cell_type": "code",
   "execution_count": 3,
   "metadata": {},
   "outputs": [],
   "source": [
    "class CricketScore:\n",
    "    \n",
    "    #Constructor\n",
    "    def __init__(self, rootWindow):\n",
    "        self.rootWindow = rootWindow\n",
    "        self.rootWindow.title('Live Cricket Score')\n",
    "        self.rootWindow.geometry('800x500')\n",
    "        self.bg = ImageTk.PhotoImage(file = 'cric.png')\n",
    "        bg = Label(self.rootWindow, image = self.bg).place(x = 0, y = 0)\n",
    "\n",
    "        #Live Matches Label\n",
    "        self.label = Label(self.rootWindow, text = \"Live Matches\", font = (\"times new roman\", 65), compound = \"center\").pack(padx = 100, pady = 50)\n",
    "\n",
    "\n",
    "\n",
    "\n",
    "# main function for running the CrickTrack Application\n",
    "\n",
    "def main():\n",
    "    rootWindow = Tk()\n",
    "    appObj = CricketScore(rootWindow)\n",
    "    rootWindow.mainloop()\n",
    "\n",
    "\n",
    "#Execute this file\n",
    "if __name__ == '__main__':\n",
    "    main()"
   ]
  }
 ],
 "metadata": {
  "kernelspec": {
   "display_name": "base",
   "language": "python",
   "name": "python3"
  },
  "language_info": {
   "codemirror_mode": {
    "name": "ipython",
    "version": 3
   },
   "file_extension": ".py",
   "mimetype": "text/x-python",
   "name": "python",
   "nbconvert_exporter": "python",
   "pygments_lexer": "ipython3",
   "version": "3.11.5"
  }
 },
 "nbformat": 4,
 "nbformat_minor": 2
}
